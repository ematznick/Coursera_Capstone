{
 "cells": [
  {
   "cell_type": "markdown",
   "metadata": {},
   "source": [
    "# Introduction\n",
    "\n",
    "Hundreds of families are moved across the country and the world every year following the call of their nation. When military members get orders for a new location, their whole family (whether that includes children, spouses, pets) usually all go with them. This is a very difficult time for these individuals because they have to uproot their lives and move to a new city, state, or country. Some families decide to buy homes where their new duty station is located, and these people are the focus of this report. Military bases can have several towns located around it and finding what towns work best for each family can be difficult especially since these individuals may have never moved to this location before. One such military base is in Maryland located between Baltimore and Washington DC, called Fort Meade and this is the base this report will focus on.\n",
    "The goal of this project is to cluster towns from two of the closest counties to Fort Meade to give moving families group of towns that are similar to start their house buying search. Homebuying can be daunting in an unknown area but having a group of similar towns based on places located in the towns and then the break down of these clusters and how crime, house values, and schools can make it easier for families to narrow down where to search for a home."
   ]
  },
  {
   "cell_type": "markdown",
   "metadata": {},
   "source": [
    "# Methods\n",
    "This project will focus on two counties that surround Fort Meade, Maryland: Ann Arundel County and Howard County. Municipalities of these two counties will be pulled from Wikipedia. Foursquare will be used to pull the top local places to each municipalitie. Crime data will be pulled from the open data repository managed by the state of Maryland for this pass year. Home prices will be pulled from zillow gathered from March 2020. School data will be split into elementary, middle, and high school and will be based on the average rating for the county the municipality resides in as given by the states report card data managed by the state of Maryland. Clustering will be completed using Kmeans with 5 clusters."
   ]
  },
  {
   "cell_type": "code",
   "execution_count": null,
   "metadata": {},
   "outputs": [],
   "source": []
  }
 ],
 "metadata": {
  "kernelspec": {
   "display_name": "Python 3",
   "language": "python",
   "name": "python3"
  },
  "language_info": {
   "codemirror_mode": {
    "name": "ipython",
    "version": 3
   },
   "file_extension": ".py",
   "mimetype": "text/x-python",
   "name": "python",
   "nbconvert_exporter": "python",
   "pygments_lexer": "ipython3",
   "version": "3.7.4"
  }
 },
 "nbformat": 4,
 "nbformat_minor": 2
}
